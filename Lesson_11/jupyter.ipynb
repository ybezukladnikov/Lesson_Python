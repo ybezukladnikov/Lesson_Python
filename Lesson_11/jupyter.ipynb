{
 "cells": [
  {
   "cell_type": "markdown",
   "id": "40746bb5",
   "metadata": {},
   "source": [
    "## Дана функция y = (sin(x)/2+cos(x)/2)**2*sin(x)"
   ]
  },
  {
   "cell_type": "code",
   "execution_count": 131,
   "id": "f0eaf9be",
   "metadata": {},
   "outputs": [],
   "source": [
    "from sympy import is_increasing, Interval, oo, Symbol, S, solveset, is_decreasing, plot,sin,cos\n",
    "from random import uniform "
   ]
  },
  {
   "cell_type": "code",
   "execution_count": 132,
   "id": "dbd8dcf3",
   "metadata": {},
   "outputs": [],
   "source": [
    "x = Symbol('x')\n"
   ]
  },
  {
   "cell_type": "code",
   "execution_count": 133,
   "id": "97a4b58d",
   "metadata": {},
   "outputs": [
    {
     "data": {
      "text/latex": [
       "$\\displaystyle \\left(\\frac{\\sin{\\left(x \\right)}}{2} + \\frac{\\cos{\\left(x \\right)}}{2}\\right)^{2} \\sin{\\left(x \\right)}$"
      ],
      "text/plain": [
       "(sin(x)/2 + cos(x)/2)**2*sin(x)"
      ]
     },
     "execution_count": 133,
     "metadata": {},
     "output_type": "execute_result"
    }
   ],
   "source": [
    "y = (sin(x)/2+cos(x)/2)**2*sin(x)\n",
    "y"
   ]
  },
  {
   "cell_type": "markdown",
   "id": "0d318f51",
   "metadata": {},
   "source": [
    "## 1. Определить корни. "
   ]
  },
  {
   "cell_type": "code",
   "execution_count": 134,
   "id": "d7d7ff84",
   "metadata": {},
   "outputs": [
    {
     "data": {
      "text/plain": [
       "[-9.4, -7.1, -6.3, -3.9, -3.1, -0.79, 0, 2.4, 3.1, 5.5, 6.3, 8.6, 9.4]"
      ]
     },
     "execution_count": 134,
     "metadata": {},
     "output_type": "execute_result"
    }
   ],
   "source": [
    "root = list(solveset(y, domain = Interval(-10,10)))\n",
    "root = sorted(root)\n",
    "for i in range(len(root)):\n",
    "    root[i] = root[i].evalf(2)\n",
    "       \n",
    "root"
   ]
  },
  {
   "cell_type": "markdown",
   "id": "bcadce17",
   "metadata": {},
   "source": [
    "## 2. Найти интервалы на которых функция возрастает. "
   ]
  },
  {
   "cell_type": "code",
   "execution_count": 135,
   "id": "1bbce311",
   "metadata": {},
   "outputs": [
    {
     "data": {
      "text/latex": [
       "$\\displaystyle \\left(- \\sin{\\left(x \\right)} + \\cos{\\left(x \\right)}\\right) \\left(\\frac{\\sin{\\left(x \\right)}}{2} + \\frac{\\cos{\\left(x \\right)}}{2}\\right) \\sin{\\left(x \\right)} + \\left(\\frac{\\sin{\\left(x \\right)}}{2} + \\frac{\\cos{\\left(x \\right)}}{2}\\right)^{2} \\cos{\\left(x \\right)}$"
      ],
      "text/plain": [
       "(-sin(x) + cos(x))*(sin(x)/2 + cos(x)/2)*sin(x) + (sin(x)/2 + cos(x)/2)**2*cos(x)"
      ]
     },
     "execution_count": 135,
     "metadata": {},
     "output_type": "execute_result"
    }
   ],
   "source": [
    "derivative = y.diff(x)\n",
    "derivative"
   ]
  },
  {
   "cell_type": "markdown",
   "id": "dda82686",
   "metadata": {},
   "source": [
    "### 2.1 Сформируем список значений, из которых будут потом формироваться интервалы:"
   ]
  },
  {
   "cell_type": "code",
   "execution_count": 136,
   "id": "5a8cb9dc",
   "metadata": {
    "scrolled": false
   },
   "outputs": [
    {
     "data": {
      "text/plain": [
       "[-3.9, -3.4, -2.1, -0.79, -0.27, 1.1, 2.4, 2.9, 4.2]"
      ]
     },
     "execution_count": 136,
     "metadata": {},
     "output_type": "execute_result"
    }
   ],
   "source": [
    "res = list(solveset(derivative, domain = Interval(-5,5)))\n",
    "# res = list(solveset(derivative, domain=S.Naturals))\n",
    "for i in range(len(res)):\n",
    "    res[i] = res[i].evalf(2)\n",
    "res = sorted(res)\n",
    "\n",
    "    \n",
    "# res.append(oo)\n",
    "# res.insert(0,-oo)\n",
    "res"
   ]
  },
  {
   "cell_type": "code",
   "execution_count": 137,
   "id": "f6577cc4",
   "metadata": {},
   "outputs": [
    {
     "ename": "TypeError",
     "evalue": "Cannot iterate over symbolic Range",
     "output_type": "error",
     "traceback": [
      "\u001b[0;31m---------------------------------------------------------------------------\u001b[0m",
      "\u001b[0;31m_SolveTrig1Error\u001b[0m                          Traceback (most recent call last)",
      "File \u001b[0;32m~/opt/anaconda3/lib/python3.9/site-packages/sympy/solvers/solveset.py:601\u001b[0m, in \u001b[0;36m_solve_trig\u001b[0;34m(f, symbol, domain)\u001b[0m\n\u001b[1;32m    600\u001b[0m \u001b[38;5;28;01mtry\u001b[39;00m:\n\u001b[0;32m--> 601\u001b[0m     sol \u001b[38;5;241m=\u001b[39m \u001b[43m_solve_trig1\u001b[49m\u001b[43m(\u001b[49m\u001b[43mf\u001b[49m\u001b[43m,\u001b[49m\u001b[43m \u001b[49m\u001b[43msymbol\u001b[49m\u001b[43m,\u001b[49m\u001b[43m \u001b[49m\u001b[43mdomain\u001b[49m\u001b[43m)\u001b[49m\n\u001b[1;32m    602\u001b[0m \u001b[38;5;28;01mexcept\u001b[39;00m _SolveTrig1Error:\n",
      "File \u001b[0;32m~/opt/anaconda3/lib/python3.9/site-packages/sympy/solvers/solveset.py:709\u001b[0m, in \u001b[0;36m_solve_trig1\u001b[0;34m(f, symbol, domain)\u001b[0m\n\u001b[1;32m    708\u001b[0m \u001b[38;5;28;01melse\u001b[39;00m:\n\u001b[0;32m--> 709\u001b[0m     \u001b[38;5;28;01mraise\u001b[39;00m _SolveTrig1Error(\u001b[38;5;124m\"\u001b[39m\u001b[38;5;124mpolynomial solutions must form FiniteSet\u001b[39m\u001b[38;5;124m\"\u001b[39m)\n",
      "\u001b[0;31m_SolveTrig1Error\u001b[0m: polynomial solutions must form FiniteSet",
      "\nDuring handling of the above exception, another exception occurred:\n",
      "\u001b[0;31mTypeError\u001b[0m                                 Traceback (most recent call last)",
      "Input \u001b[0;32mIn [137]\u001b[0m, in \u001b[0;36m<cell line: 2>\u001b[0;34m()\u001b[0m\n\u001b[1;32m      1\u001b[0m temp \u001b[38;5;241m=\u001b[39m \u001b[38;5;124m'\u001b[39m\u001b[38;5;124mмонотонная\u001b[39m\u001b[38;5;124m'\u001b[39m\n\u001b[1;32m      2\u001b[0m \u001b[38;5;28;01mfor\u001b[39;00m i \u001b[38;5;129;01min\u001b[39;00m \u001b[38;5;28mrange\u001b[39m(\u001b[38;5;28mlen\u001b[39m(res)\u001b[38;5;241m-\u001b[39m\u001b[38;5;241m1\u001b[39m):\n\u001b[0;32m----> 3\u001b[0m     \u001b[38;5;28;01mif\u001b[39;00m \u001b[43mis_increasing\u001b[49m\u001b[43m(\u001b[49m\u001b[43my\u001b[49m\u001b[43m,\u001b[49m\u001b[43m \u001b[49m\u001b[43mInterval\u001b[49m\u001b[43m(\u001b[49m\u001b[43mres\u001b[49m\u001b[43m[\u001b[49m\u001b[43mi\u001b[49m\u001b[43m]\u001b[49m\u001b[43m,\u001b[49m\u001b[43mres\u001b[49m\u001b[43m[\u001b[49m\u001b[43mi\u001b[49m\u001b[38;5;241;43m+\u001b[39;49m\u001b[38;5;241;43m1\u001b[39;49m\u001b[43m]\u001b[49m\u001b[43m)\u001b[49m\u001b[43m)\u001b[49m:\n\u001b[1;32m      4\u001b[0m         temp \u001b[38;5;241m=\u001b[39m \u001b[38;5;124m'\u001b[39m\u001b[38;5;124mвозрастает\u001b[39m\u001b[38;5;124m'\u001b[39m\n\u001b[1;32m      5\u001b[0m     \u001b[38;5;28;01melif\u001b[39;00m is_decreasing(y, Interval(res[i],res[i\u001b[38;5;241m+\u001b[39m\u001b[38;5;241m1\u001b[39m])):\n",
      "File \u001b[0;32m~/opt/anaconda3/lib/python3.9/site-packages/sympy/calculus/singularities.py:201\u001b[0m, in \u001b[0;36mis_increasing\u001b[0;34m(expression, interval, symbol)\u001b[0m\n\u001b[1;32m    161\u001b[0m \u001b[38;5;28;01mdef\u001b[39;00m \u001b[38;5;21mis_increasing\u001b[39m(expression, interval\u001b[38;5;241m=\u001b[39mS\u001b[38;5;241m.\u001b[39mReals, symbol\u001b[38;5;241m=\u001b[39m\u001b[38;5;28;01mNone\u001b[39;00m):\n\u001b[1;32m    162\u001b[0m     \u001b[38;5;124;03m\"\"\"\u001b[39;00m\n\u001b[1;32m    163\u001b[0m \u001b[38;5;124;03m    Return whether the function is increasing in the given interval.\u001b[39;00m\n\u001b[1;32m    164\u001b[0m \n\u001b[0;32m   (...)\u001b[0m\n\u001b[1;32m    199\u001b[0m \n\u001b[1;32m    200\u001b[0m \u001b[38;5;124;03m    \"\"\"\u001b[39;00m\n\u001b[0;32m--> 201\u001b[0m     \u001b[38;5;28;01mreturn\u001b[39;00m \u001b[43mmonotonicity_helper\u001b[49m\u001b[43m(\u001b[49m\u001b[43mexpression\u001b[49m\u001b[43m,\u001b[49m\u001b[43m \u001b[49m\u001b[38;5;28;43;01mlambda\u001b[39;49;00m\u001b[43m \u001b[49m\u001b[43mx\u001b[49m\u001b[43m:\u001b[49m\u001b[43m \u001b[49m\u001b[43mx\u001b[49m\u001b[43m \u001b[49m\u001b[38;5;241;43m>\u001b[39;49m\u001b[38;5;241;43m=\u001b[39;49m\u001b[43m \u001b[49m\u001b[38;5;241;43m0\u001b[39;49m\u001b[43m,\u001b[49m\u001b[43m \u001b[49m\u001b[43minterval\u001b[49m\u001b[43m,\u001b[49m\u001b[43m \u001b[49m\u001b[43msymbol\u001b[49m\u001b[43m)\u001b[49m\n",
      "File \u001b[0;32m~/opt/anaconda3/lib/python3.9/site-packages/sympy/calculus/singularities.py:157\u001b[0m, in \u001b[0;36mmonotonicity_helper\u001b[0;34m(expression, predicate, interval, symbol)\u001b[0m\n\u001b[1;32m    155\u001b[0m variable \u001b[38;5;241m=\u001b[39m symbol \u001b[38;5;129;01mor\u001b[39;00m (free\u001b[38;5;241m.\u001b[39mpop() \u001b[38;5;28;01mif\u001b[39;00m free \u001b[38;5;28;01melse\u001b[39;00m Symbol(\u001b[38;5;124m'\u001b[39m\u001b[38;5;124mx\u001b[39m\u001b[38;5;124m'\u001b[39m))\n\u001b[1;32m    156\u001b[0m derivative \u001b[38;5;241m=\u001b[39m expression\u001b[38;5;241m.\u001b[39mdiff(variable)\n\u001b[0;32m--> 157\u001b[0m predicate_interval \u001b[38;5;241m=\u001b[39m \u001b[43msolveset\u001b[49m\u001b[43m(\u001b[49m\u001b[43mpredicate\u001b[49m\u001b[43m(\u001b[49m\u001b[43mderivative\u001b[49m\u001b[43m)\u001b[49m\u001b[43m,\u001b[49m\u001b[43m \u001b[49m\u001b[43mvariable\u001b[49m\u001b[43m,\u001b[49m\u001b[43m \u001b[49m\u001b[43mS\u001b[49m\u001b[38;5;241;43m.\u001b[39;49m\u001b[43mReals\u001b[49m\u001b[43m)\u001b[49m\n\u001b[1;32m    158\u001b[0m \u001b[38;5;28;01mreturn\u001b[39;00m interval\u001b[38;5;241m.\u001b[39mis_subset(predicate_interval)\n",
      "File \u001b[0;32m~/opt/anaconda3/lib/python3.9/site-packages/sympy/solvers/solveset.py:2216\u001b[0m, in \u001b[0;36msolveset\u001b[0;34m(f, symbol, domain)\u001b[0m\n\u001b[1;32m   2214\u001b[0m \u001b[38;5;28;01mif\u001b[39;00m symbol \u001b[38;5;129;01mnot\u001b[39;00m \u001b[38;5;129;01min\u001b[39;00m _rc:\n\u001b[1;32m   2215\u001b[0m     x \u001b[38;5;241m=\u001b[39m _rc[\u001b[38;5;241m0\u001b[39m] \u001b[38;5;28;01mif\u001b[39;00m domain\u001b[38;5;241m.\u001b[39mis_subset(S\u001b[38;5;241m.\u001b[39mReals) \u001b[38;5;28;01melse\u001b[39;00m _rc[\u001b[38;5;241m1\u001b[39m]\n\u001b[0;32m-> 2216\u001b[0m     rv \u001b[38;5;241m=\u001b[39m \u001b[43msolveset\u001b[49m\u001b[43m(\u001b[49m\u001b[43mf\u001b[49m\u001b[38;5;241;43m.\u001b[39;49m\u001b[43mxreplace\u001b[49m\u001b[43m(\u001b[49m\u001b[43m{\u001b[49m\u001b[43msymbol\u001b[49m\u001b[43m:\u001b[49m\u001b[43m \u001b[49m\u001b[43mx\u001b[49m\u001b[43m}\u001b[49m\u001b[43m)\u001b[49m\u001b[43m,\u001b[49m\u001b[43m \u001b[49m\u001b[43mx\u001b[49m\u001b[43m,\u001b[49m\u001b[43m \u001b[49m\u001b[43mdomain\u001b[49m\u001b[43m)\u001b[49m\n\u001b[1;32m   2217\u001b[0m     \u001b[38;5;66;03m# try to use the original symbol if possible\u001b[39;00m\n\u001b[1;32m   2218\u001b[0m     \u001b[38;5;28;01mtry\u001b[39;00m:\n",
      "File \u001b[0;32m~/opt/anaconda3/lib/python3.9/site-packages/sympy/solvers/solveset.py:2240\u001b[0m, in \u001b[0;36msolveset\u001b[0;34m(f, symbol, domain)\u001b[0m\n\u001b[1;32m   2237\u001b[0m     f \u001b[38;5;241m=\u001b[39m f\u001b[38;5;241m.\u001b[39mxreplace({d: e})\n\u001b[1;32m   2238\u001b[0m f \u001b[38;5;241m=\u001b[39m piecewise_fold(f)\n\u001b[0;32m-> 2240\u001b[0m \u001b[38;5;28;01mreturn\u001b[39;00m \u001b[43m_solveset\u001b[49m\u001b[43m(\u001b[49m\u001b[43mf\u001b[49m\u001b[43m,\u001b[49m\u001b[43m \u001b[49m\u001b[43msymbol\u001b[49m\u001b[43m,\u001b[49m\u001b[43m \u001b[49m\u001b[43mdomain\u001b[49m\u001b[43m,\u001b[49m\u001b[43m \u001b[49m\u001b[43m_check\u001b[49m\u001b[38;5;241;43m=\u001b[39;49m\u001b[38;5;28;43;01mTrue\u001b[39;49;00m\u001b[43m)\u001b[49m\n",
      "File \u001b[0;32m~/opt/anaconda3/lib/python3.9/site-packages/sympy/solvers/solveset.py:1046\u001b[0m, in \u001b[0;36m_solveset\u001b[0;34m(f, symbol, domain, _check)\u001b[0m\n\u001b[1;32m   1044\u001b[0m \u001b[38;5;28;01mfrom\u001b[39;00m \u001b[38;5;21;01m.\u001b[39;00m\u001b[38;5;21;01minequalities\u001b[39;00m \u001b[38;5;28;01mimport\u001b[39;00m solve_univariate_inequality\n\u001b[1;32m   1045\u001b[0m \u001b[38;5;28;01mtry\u001b[39;00m:\n\u001b[0;32m-> 1046\u001b[0m     result \u001b[38;5;241m=\u001b[39m \u001b[43msolve_univariate_inequality\u001b[49m\u001b[43m(\u001b[49m\n\u001b[1;32m   1047\u001b[0m \u001b[43m    \u001b[49m\u001b[43mf\u001b[49m\u001b[43m,\u001b[49m\u001b[43m \u001b[49m\u001b[43msymbol\u001b[49m\u001b[43m,\u001b[49m\u001b[43m \u001b[49m\u001b[43mdomain\u001b[49m\u001b[38;5;241;43m=\u001b[39;49m\u001b[43mdomain\u001b[49m\u001b[43m,\u001b[49m\u001b[43m \u001b[49m\u001b[43mrelational\u001b[49m\u001b[38;5;241;43m=\u001b[39;49m\u001b[38;5;28;43;01mFalse\u001b[39;49;00m\u001b[43m)\u001b[49m\n\u001b[1;32m   1048\u001b[0m \u001b[38;5;28;01mexcept\u001b[39;00m \u001b[38;5;167;01mNotImplementedError\u001b[39;00m:\n\u001b[1;32m   1049\u001b[0m     result \u001b[38;5;241m=\u001b[39m ConditionSet(symbol, f, domain)\n",
      "File \u001b[0;32m~/opt/anaconda3/lib/python3.9/site-packages/sympy/solvers/inequalities.py:500\u001b[0m, in \u001b[0;36msolve_univariate_inequality\u001b[0;34m(expr, gen, relational, domain, continuous)\u001b[0m\n\u001b[1;32m    498\u001b[0m         rv \u001b[38;5;241m=\u001b[39m S\u001b[38;5;241m.\u001b[39mEmptySet\n\u001b[1;32m    499\u001b[0m \u001b[38;5;28;01melif\u001b[39;00m period \u001b[38;5;129;01mis\u001b[39;00m \u001b[38;5;129;01mnot\u001b[39;00m \u001b[38;5;28;01mNone\u001b[39;00m:\n\u001b[0;32m--> 500\u001b[0m     frange \u001b[38;5;241m=\u001b[39m \u001b[43mfunction_range\u001b[49m\u001b[43m(\u001b[49m\u001b[43me\u001b[49m\u001b[43m,\u001b[49m\u001b[43m \u001b[49m\u001b[43mgen\u001b[49m\u001b[43m,\u001b[49m\u001b[43m \u001b[49m\u001b[43mdomain\u001b[49m\u001b[43m)\u001b[49m\n\u001b[1;32m    502\u001b[0m     rel \u001b[38;5;241m=\u001b[39m expr\u001b[38;5;241m.\u001b[39mrel_op\n\u001b[1;32m    503\u001b[0m     \u001b[38;5;28;01mif\u001b[39;00m rel \u001b[38;5;129;01min\u001b[39;00m (\u001b[38;5;124m'\u001b[39m\u001b[38;5;124m<\u001b[39m\u001b[38;5;124m'\u001b[39m, \u001b[38;5;124m'\u001b[39m\u001b[38;5;124m<=\u001b[39m\u001b[38;5;124m'\u001b[39m):\n",
      "File \u001b[0;32m~/opt/anaconda3/lib/python3.9/site-packages/sympy/calculus/util.py:197\u001b[0m, in \u001b[0;36mfunction_range\u001b[0;34m(f, symbol, domain)\u001b[0m\n\u001b[1;32m    194\u001b[0m     \u001b[38;5;28;01melse\u001b[39;00m:\n\u001b[1;32m    195\u001b[0m         vals \u001b[38;5;241m+\u001b[39m\u001b[38;5;241m=\u001b[39m FiniteSet(f\u001b[38;5;241m.\u001b[39msubs(symbol, limit_point))\n\u001b[0;32m--> 197\u001b[0m solution \u001b[38;5;241m=\u001b[39m \u001b[43msolveset\u001b[49m\u001b[43m(\u001b[49m\u001b[43mf\u001b[49m\u001b[38;5;241;43m.\u001b[39;49m\u001b[43mdiff\u001b[49m\u001b[43m(\u001b[49m\u001b[43msymbol\u001b[49m\u001b[43m)\u001b[49m\u001b[43m,\u001b[49m\u001b[43m \u001b[49m\u001b[43msymbol\u001b[49m\u001b[43m,\u001b[49m\u001b[43m \u001b[49m\u001b[43minterval\u001b[49m\u001b[43m)\u001b[49m\n\u001b[1;32m    199\u001b[0m \u001b[38;5;28;01mif\u001b[39;00m \u001b[38;5;129;01mnot\u001b[39;00m iterable(solution):\n\u001b[1;32m    200\u001b[0m     \u001b[38;5;28;01mraise\u001b[39;00m \u001b[38;5;167;01mNotImplementedError\u001b[39;00m(\n\u001b[1;32m    201\u001b[0m             \u001b[38;5;124m'\u001b[39m\u001b[38;5;124mUnable to find critical points for \u001b[39m\u001b[38;5;132;01m{}\u001b[39;00m\u001b[38;5;124m'\u001b[39m\u001b[38;5;241m.\u001b[39mformat(f))\n",
      "File \u001b[0;32m~/opt/anaconda3/lib/python3.9/site-packages/sympy/solvers/solveset.py:2240\u001b[0m, in \u001b[0;36msolveset\u001b[0;34m(f, symbol, domain)\u001b[0m\n\u001b[1;32m   2237\u001b[0m     f \u001b[38;5;241m=\u001b[39m f\u001b[38;5;241m.\u001b[39mxreplace({d: e})\n\u001b[1;32m   2238\u001b[0m f \u001b[38;5;241m=\u001b[39m piecewise_fold(f)\n\u001b[0;32m-> 2240\u001b[0m \u001b[38;5;28;01mreturn\u001b[39;00m \u001b[43m_solveset\u001b[49m\u001b[43m(\u001b[49m\u001b[43mf\u001b[49m\u001b[43m,\u001b[49m\u001b[43m \u001b[49m\u001b[43msymbol\u001b[49m\u001b[43m,\u001b[49m\u001b[43m \u001b[49m\u001b[43mdomain\u001b[49m\u001b[43m,\u001b[49m\u001b[43m \u001b[49m\u001b[43m_check\u001b[49m\u001b[38;5;241;43m=\u001b[39;49m\u001b[38;5;28;43;01mTrue\u001b[39;49;00m\u001b[43m)\u001b[49m\n",
      "File \u001b[0;32m~/opt/anaconda3/lib/python3.9/site-packages/sympy/solvers/solveset.py:1028\u001b[0m, in \u001b[0;36m_solveset\u001b[0;34m(f, symbol, domain, _check)\u001b[0m\n\u001b[1;32m   1025\u001b[0m     result \u001b[38;5;241m=\u001b[39m Union(\u001b[38;5;241m*\u001b[39m[solver(m, symbol) \u001b[38;5;28;01mfor\u001b[39;00m m \u001b[38;5;129;01min\u001b[39;00m f\u001b[38;5;241m.\u001b[39margs])\n\u001b[1;32m   1026\u001b[0m \u001b[38;5;28;01melif\u001b[39;00m _is_function_class_equation(TrigonometricFunction, f, symbol) \u001b[38;5;129;01mor\u001b[39;00m \\\n\u001b[1;32m   1027\u001b[0m         _is_function_class_equation(HyperbolicFunction, f, symbol):\n\u001b[0;32m-> 1028\u001b[0m     result \u001b[38;5;241m=\u001b[39m \u001b[43m_solve_trig\u001b[49m\u001b[43m(\u001b[49m\u001b[43mf\u001b[49m\u001b[43m,\u001b[49m\u001b[43m \u001b[49m\u001b[43msymbol\u001b[49m\u001b[43m,\u001b[49m\u001b[43m \u001b[49m\u001b[43mdomain\u001b[49m\u001b[43m)\u001b[49m\n\u001b[1;32m   1029\u001b[0m \u001b[38;5;28;01melif\u001b[39;00m \u001b[38;5;28misinstance\u001b[39m(f, arg):\n\u001b[1;32m   1030\u001b[0m     a \u001b[38;5;241m=\u001b[39m f\u001b[38;5;241m.\u001b[39margs[\u001b[38;5;241m0\u001b[39m]\n",
      "File \u001b[0;32m~/opt/anaconda3/lib/python3.9/site-packages/sympy/solvers/solveset.py:604\u001b[0m, in \u001b[0;36m_solve_trig\u001b[0;34m(f, symbol, domain)\u001b[0m\n\u001b[1;32m    602\u001b[0m \u001b[38;5;28;01mexcept\u001b[39;00m _SolveTrig1Error:\n\u001b[1;32m    603\u001b[0m     \u001b[38;5;28;01mtry\u001b[39;00m:\n\u001b[0;32m--> 604\u001b[0m         sol \u001b[38;5;241m=\u001b[39m \u001b[43m_solve_trig2\u001b[49m\u001b[43m(\u001b[49m\u001b[43mf\u001b[49m\u001b[43m,\u001b[49m\u001b[43m \u001b[49m\u001b[43msymbol\u001b[49m\u001b[43m,\u001b[49m\u001b[43m \u001b[49m\u001b[43mdomain\u001b[49m\u001b[43m)\u001b[49m\n\u001b[1;32m    605\u001b[0m     \u001b[38;5;28;01mexcept\u001b[39;00m \u001b[38;5;167;01mValueError\u001b[39;00m:\n\u001b[1;32m    606\u001b[0m         \u001b[38;5;28;01mraise\u001b[39;00m \u001b[38;5;167;01mNotImplementedError\u001b[39;00m(filldedent(\u001b[38;5;124m'''\u001b[39m\n\u001b[1;32m    607\u001b[0m \u001b[38;5;124m            Solution to this kind of trigonometric equations\u001b[39m\n\u001b[1;32m    608\u001b[0m \u001b[38;5;124m            is yet to be implemented\u001b[39m\u001b[38;5;124m'''\u001b[39m))\n",
      "File \u001b[0;32m~/opt/anaconda3/lib/python3.9/site-packages/sympy/solvers/solveset.py:776\u001b[0m, in \u001b[0;36m_solve_trig2\u001b[0;34m(f, symbol, domain)\u001b[0m\n\u001b[1;32m    774\u001b[0m     \u001b[38;5;28;01mif\u001b[39;00m degree(h) \u001b[38;5;241m>\u001b[39m degree(g):                   \u001b[38;5;66;03m# If degree(denom)>degree(num) then there\u001b[39;00m\n\u001b[1;32m    775\u001b[0m         result \u001b[38;5;241m=\u001b[39m Union(result, dsol)            \u001b[38;5;66;03m# would be another sol at Lim(denom-->oo)\u001b[39;00m\n\u001b[0;32m--> 776\u001b[0m     \u001b[38;5;28;01mreturn\u001b[39;00m \u001b[43mIntersection\u001b[49m\u001b[43m(\u001b[49m\u001b[43mresult\u001b[49m\u001b[43m,\u001b[49m\u001b[43m \u001b[49m\u001b[43mdomain\u001b[49m\u001b[43m)\u001b[49m\n\u001b[1;32m    777\u001b[0m \u001b[38;5;28;01melif\u001b[39;00m solns \u001b[38;5;129;01mis\u001b[39;00m S\u001b[38;5;241m.\u001b[39mEmptySet:\n\u001b[1;32m    778\u001b[0m     \u001b[38;5;28;01mreturn\u001b[39;00m S\u001b[38;5;241m.\u001b[39mEmptySet\n",
      "File \u001b[0;32m~/opt/anaconda3/lib/python3.9/site-packages/sympy/sets/sets.py:1373\u001b[0m, in \u001b[0;36mIntersection.__new__\u001b[0;34m(cls, *args, **kwargs)\u001b[0m\n\u001b[1;32m   1371\u001b[0m \u001b[38;5;28;01mif\u001b[39;00m evaluate:\n\u001b[1;32m   1372\u001b[0m     args \u001b[38;5;241m=\u001b[39m \u001b[38;5;28mlist\u001b[39m(\u001b[38;5;28mcls\u001b[39m\u001b[38;5;241m.\u001b[39m_new_args_filter(args))\n\u001b[0;32m-> 1373\u001b[0m     \u001b[38;5;28;01mreturn\u001b[39;00m \u001b[43msimplify_intersection\u001b[49m\u001b[43m(\u001b[49m\u001b[43margs\u001b[49m\u001b[43m)\u001b[49m\n\u001b[1;32m   1375\u001b[0m args \u001b[38;5;241m=\u001b[39m \u001b[38;5;28mlist\u001b[39m(ordered(args, Set\u001b[38;5;241m.\u001b[39m_infimum_key))\n\u001b[1;32m   1377\u001b[0m obj \u001b[38;5;241m=\u001b[39m Basic\u001b[38;5;241m.\u001b[39m\u001b[38;5;21m__new__\u001b[39m(\u001b[38;5;28mcls\u001b[39m, \u001b[38;5;241m*\u001b[39margs)\n",
      "File \u001b[0;32m~/opt/anaconda3/lib/python3.9/site-packages/sympy/sets/sets.py:2452\u001b[0m, in \u001b[0;36msimplify_intersection\u001b[0;34m(args)\u001b[0m\n\u001b[1;32m   2450\u001b[0m \u001b[38;5;28;01mif\u001b[39;00m \u001b[38;5;28mlen\u001b[39m(other_sets) \u001b[38;5;241m>\u001b[39m \u001b[38;5;241m0\u001b[39m:\n\u001b[1;32m   2451\u001b[0m     other \u001b[38;5;241m=\u001b[39m Intersection(\u001b[38;5;241m*\u001b[39mother_sets)\n\u001b[0;32m-> 2452\u001b[0m     \u001b[38;5;28;01mreturn\u001b[39;00m \u001b[43mUnion\u001b[49m\u001b[43m(\u001b[49m\u001b[38;5;241;43m*\u001b[39;49m\u001b[43m(\u001b[49m\u001b[43mIntersection\u001b[49m\u001b[43m(\u001b[49m\u001b[43marg\u001b[49m\u001b[43m,\u001b[49m\u001b[43m \u001b[49m\u001b[43mother\u001b[49m\u001b[43m)\u001b[49m\u001b[43m \u001b[49m\u001b[38;5;28;43;01mfor\u001b[39;49;00m\u001b[43m \u001b[49m\u001b[43marg\u001b[49m\u001b[43m \u001b[49m\u001b[38;5;129;43;01min\u001b[39;49;00m\u001b[43m \u001b[49m\u001b[43ms\u001b[49m\u001b[38;5;241;43m.\u001b[39;49m\u001b[43margs\u001b[49m\u001b[43m)\u001b[49m\u001b[43m)\u001b[49m\n\u001b[1;32m   2453\u001b[0m \u001b[38;5;28;01melse\u001b[39;00m:\n\u001b[1;32m   2454\u001b[0m     \u001b[38;5;28;01mreturn\u001b[39;00m Union(\u001b[38;5;241m*\u001b[39m[arg \u001b[38;5;28;01mfor\u001b[39;00m arg \u001b[38;5;129;01min\u001b[39;00m s\u001b[38;5;241m.\u001b[39margs])\n",
      "File \u001b[0;32m~/opt/anaconda3/lib/python3.9/site-packages/sympy/sets/sets.py:2452\u001b[0m, in \u001b[0;36m<genexpr>\u001b[0;34m(.0)\u001b[0m\n\u001b[1;32m   2450\u001b[0m \u001b[38;5;28;01mif\u001b[39;00m \u001b[38;5;28mlen\u001b[39m(other_sets) \u001b[38;5;241m>\u001b[39m \u001b[38;5;241m0\u001b[39m:\n\u001b[1;32m   2451\u001b[0m     other \u001b[38;5;241m=\u001b[39m Intersection(\u001b[38;5;241m*\u001b[39mother_sets)\n\u001b[0;32m-> 2452\u001b[0m     \u001b[38;5;28;01mreturn\u001b[39;00m Union(\u001b[38;5;241m*\u001b[39m(\u001b[43mIntersection\u001b[49m\u001b[43m(\u001b[49m\u001b[43marg\u001b[49m\u001b[43m,\u001b[49m\u001b[43m \u001b[49m\u001b[43mother\u001b[49m\u001b[43m)\u001b[49m \u001b[38;5;28;01mfor\u001b[39;00m arg \u001b[38;5;129;01min\u001b[39;00m s\u001b[38;5;241m.\u001b[39margs))\n\u001b[1;32m   2453\u001b[0m \u001b[38;5;28;01melse\u001b[39;00m:\n\u001b[1;32m   2454\u001b[0m     \u001b[38;5;28;01mreturn\u001b[39;00m Union(\u001b[38;5;241m*\u001b[39m[arg \u001b[38;5;28;01mfor\u001b[39;00m arg \u001b[38;5;129;01min\u001b[39;00m s\u001b[38;5;241m.\u001b[39margs])\n",
      "File \u001b[0;32m~/opt/anaconda3/lib/python3.9/site-packages/sympy/sets/sets.py:1373\u001b[0m, in \u001b[0;36mIntersection.__new__\u001b[0;34m(cls, *args, **kwargs)\u001b[0m\n\u001b[1;32m   1371\u001b[0m \u001b[38;5;28;01mif\u001b[39;00m evaluate:\n\u001b[1;32m   1372\u001b[0m     args \u001b[38;5;241m=\u001b[39m \u001b[38;5;28mlist\u001b[39m(\u001b[38;5;28mcls\u001b[39m\u001b[38;5;241m.\u001b[39m_new_args_filter(args))\n\u001b[0;32m-> 1373\u001b[0m     \u001b[38;5;28;01mreturn\u001b[39;00m \u001b[43msimplify_intersection\u001b[49m\u001b[43m(\u001b[49m\u001b[43margs\u001b[49m\u001b[43m)\u001b[49m\n\u001b[1;32m   1375\u001b[0m args \u001b[38;5;241m=\u001b[39m \u001b[38;5;28mlist\u001b[39m(ordered(args, Set\u001b[38;5;241m.\u001b[39m_infimum_key))\n\u001b[1;32m   1377\u001b[0m obj \u001b[38;5;241m=\u001b[39m Basic\u001b[38;5;241m.\u001b[39m\u001b[38;5;21m__new__\u001b[39m(\u001b[38;5;28mcls\u001b[39m, \u001b[38;5;241m*\u001b[39margs)\n",
      "File \u001b[0;32m~/opt/anaconda3/lib/python3.9/site-packages/sympy/sets/sets.py:2476\u001b[0m, in \u001b[0;36msimplify_intersection\u001b[0;34m(args)\u001b[0m\n\u001b[1;32m   2474\u001b[0m new_args \u001b[38;5;241m=\u001b[39m \u001b[38;5;28;01mFalse\u001b[39;00m\n\u001b[1;32m   2475\u001b[0m \u001b[38;5;28;01mfor\u001b[39;00m t \u001b[38;5;129;01min\u001b[39;00m args \u001b[38;5;241m-\u001b[39m {s}:\n\u001b[0;32m-> 2476\u001b[0m     new_set \u001b[38;5;241m=\u001b[39m \u001b[43mintersection_sets\u001b[49m\u001b[43m(\u001b[49m\u001b[43ms\u001b[49m\u001b[43m,\u001b[49m\u001b[43m \u001b[49m\u001b[43mt\u001b[49m\u001b[43m)\u001b[49m\n\u001b[1;32m   2477\u001b[0m     \u001b[38;5;66;03m# This returns None if s does not know how to intersect\u001b[39;00m\n\u001b[1;32m   2478\u001b[0m     \u001b[38;5;66;03m# with t. Returns the newly intersected set otherwise\u001b[39;00m\n\u001b[1;32m   2480\u001b[0m     \u001b[38;5;28;01mif\u001b[39;00m new_set \u001b[38;5;129;01mis\u001b[39;00m \u001b[38;5;129;01mnot\u001b[39;00m \u001b[38;5;28;01mNone\u001b[39;00m:\n",
      "File \u001b[0;32m~/opt/anaconda3/lib/python3.9/site-packages/sympy/multipledispatch/dispatcher.py:243\u001b[0m, in \u001b[0;36mDispatcher.__call__\u001b[0;34m(self, *args, **kwargs)\u001b[0m\n\u001b[1;32m    241\u001b[0m     \u001b[38;5;28mself\u001b[39m\u001b[38;5;241m.\u001b[39m_cache[types] \u001b[38;5;241m=\u001b[39m func\n\u001b[1;32m    242\u001b[0m \u001b[38;5;28;01mtry\u001b[39;00m:\n\u001b[0;32m--> 243\u001b[0m     \u001b[38;5;28;01mreturn\u001b[39;00m \u001b[43mfunc\u001b[49m\u001b[43m(\u001b[49m\u001b[38;5;241;43m*\u001b[39;49m\u001b[43margs\u001b[49m\u001b[43m,\u001b[49m\u001b[43m \u001b[49m\u001b[38;5;241;43m*\u001b[39;49m\u001b[38;5;241;43m*\u001b[39;49m\u001b[43mkwargs\u001b[49m\u001b[43m)\u001b[49m\n\u001b[1;32m    245\u001b[0m \u001b[38;5;28;01mexcept\u001b[39;00m MDNotImplementedError:\n\u001b[1;32m    246\u001b[0m     funcs \u001b[38;5;241m=\u001b[39m \u001b[38;5;28mself\u001b[39m\u001b[38;5;241m.\u001b[39mdispatch_iter(\u001b[38;5;241m*\u001b[39mtypes)\n",
      "File \u001b[0;32m~/opt/anaconda3/lib/python3.9/site-packages/sympy/sets/handlers/intersection.py:393\u001b[0m, in \u001b[0;36m_\u001b[0;34m(self, other)\u001b[0m\n\u001b[1;32m    391\u001b[0m     \u001b[38;5;28;01mreturn\u001b[39;00m S\u001b[38;5;241m.\u001b[39mEmptySet\n\u001b[1;32m    392\u001b[0m \u001b[38;5;28;01melif\u001b[39;00m \u001b[38;5;28misinstance\u001b[39m(range_set, Range) \u001b[38;5;129;01mand\u001b[39;00m range_set\u001b[38;5;241m.\u001b[39msize \u001b[38;5;129;01mis\u001b[39;00m \u001b[38;5;129;01mnot\u001b[39;00m S\u001b[38;5;241m.\u001b[39mInfinity:\n\u001b[0;32m--> 393\u001b[0m     range_set \u001b[38;5;241m=\u001b[39m FiniteSet(\u001b[38;5;241m*\u001b[39m\u001b[38;5;28;43mlist\u001b[39;49m\u001b[43m(\u001b[49m\u001b[43mrange_set\u001b[49m\u001b[43m)\u001b[49m)\n\u001b[1;32m    395\u001b[0m \u001b[38;5;28;01mif\u001b[39;00m range_set \u001b[38;5;129;01mis\u001b[39;00m \u001b[38;5;129;01mnot\u001b[39;00m \u001b[38;5;28;01mNone\u001b[39;00m:\n\u001b[1;32m    396\u001b[0m     \u001b[38;5;28;01mreturn\u001b[39;00m imageset(Lambda(n, f), range_set)\n",
      "File \u001b[0;32m~/opt/anaconda3/lib/python3.9/site-packages/sympy/sets/fancysets.py:730\u001b[0m, in \u001b[0;36mRange.__iter__\u001b[0;34m(self)\u001b[0m\n\u001b[1;32m    728\u001b[0m n \u001b[38;5;241m=\u001b[39m \u001b[38;5;28mself\u001b[39m\u001b[38;5;241m.\u001b[39msize  \u001b[38;5;66;03m# validate\u001b[39;00m\n\u001b[1;32m    729\u001b[0m \u001b[38;5;28;01mif\u001b[39;00m \u001b[38;5;129;01mnot\u001b[39;00m (n\u001b[38;5;241m.\u001b[39mhas(S\u001b[38;5;241m.\u001b[39mInfinity) \u001b[38;5;129;01mor\u001b[39;00m n\u001b[38;5;241m.\u001b[39mhas(S\u001b[38;5;241m.\u001b[39mNegativeInfinity) \u001b[38;5;129;01mor\u001b[39;00m n\u001b[38;5;241m.\u001b[39mis_Integer):\n\u001b[0;32m--> 730\u001b[0m     \u001b[38;5;28;01mraise\u001b[39;00m \u001b[38;5;167;01mTypeError\u001b[39;00m(\u001b[38;5;124m\"\u001b[39m\u001b[38;5;124mCannot iterate over symbolic Range\u001b[39m\u001b[38;5;124m\"\u001b[39m)\n\u001b[1;32m    731\u001b[0m \u001b[38;5;28;01mif\u001b[39;00m \u001b[38;5;28mself\u001b[39m\u001b[38;5;241m.\u001b[39mstart \u001b[38;5;129;01min\u001b[39;00m [S\u001b[38;5;241m.\u001b[39mNegativeInfinity, S\u001b[38;5;241m.\u001b[39mInfinity]:\n\u001b[1;32m    732\u001b[0m     \u001b[38;5;28;01mraise\u001b[39;00m \u001b[38;5;167;01mTypeError\u001b[39;00m(\u001b[38;5;124m\"\u001b[39m\u001b[38;5;124mCannot iterate over Range with infinite start\u001b[39m\u001b[38;5;124m\"\u001b[39m)\n",
      "\u001b[0;31mTypeError\u001b[0m: Cannot iterate over symbolic Range"
     ]
    }
   ],
   "source": [
    "temp = 'монотонная'\n",
    "for i in range(len(res)-1):\n",
    "    if is_increasing(y, Interval(res[i],res[i+1])):\n",
    "        temp = 'возрастает'\n",
    "    elif is_decreasing(y, Interval(res[i],res[i+1])):\n",
    "        temp = 'убывает'\n",
    "        \n",
    "    print(f\"Функция {temp} на интервале от {res[i]} до {res[i+1]}\")\n"
   ]
  },
  {
   "cell_type": "markdown",
   "id": "1197e709",
   "metadata": {},
   "source": [
    "## 4. Построить график"
   ]
  },
  {
   "cell_type": "code",
   "execution_count": 122,
   "id": "76f1bb6c",
   "metadata": {
    "scrolled": false
   },
   "outputs": [
    {
     "data": {
      "image/png": "[encoded data removed]",
      "text/plain": [
       "<Figure size 432x288 with 1 Axes>"
      ]
     },
     "metadata": {
      "needs_background": "light"
     },
     "output_type": "display_data"
    }
   ],
   "source": [
    "grafic = plot(y)\n"
   ]
  },
  {
   "cell_type": "markdown",
   "id": "faae90b6",
   "metadata": {},
   "source": [
    "## 5. Вычислить вершину"
   ]
  },
  {
   "cell_type": "code",
   "execution_count": 124,
   "id": "4fac6ccc",
   "metadata": {},
   "outputs": [
    {
     "data": {
      "text/plain": [
       "[-3.9, -3.4, -2.1, -0.79, -0.27, 1.1, 2.4, 2.9, 4.2]"
      ]
     },
     "execution_count": 124,
     "metadata": {},
     "output_type": "execute_result"
    }
   ],
   "source": [
    "# res.remove(oo)\n",
    "# res.remove(-oo)\n",
    "\n",
    "res"
   ]
  },
  {
   "cell_type": "code",
   "execution_count": 125,
   "id": "167b6753",
   "metadata": {},
   "outputs": [
    {
     "data": {
      "text/plain": [
       "[6.7e-7, 0.032, -0.40, 0, -0.032, 0.41, 1.7e-7, 0.032, -0.40]"
      ]
     },
     "execution_count": 125,
     "metadata": {},
     "output_type": "execute_result"
    }
   ],
   "source": [
    "func = lambda x: (sin(x)/2+cos(x)/2)**2*sin(x)\n",
    "coordinate_y = list(map(func,res))\n",
    "coordinate_y"
   ]
  },
  {
   "cell_type": "code",
   "execution_count": 126,
   "id": "01c8b760",
   "metadata": {},
   "outputs": [
    {
     "name": "stdout",
     "output_type": "stream",
     "text": [
      "Координаты Экстемума № 1 => (-3.9, 6.7e-7)\n",
      "Координаты Экстемума № 2 => (-3.4, 0.032)\n",
      "Координаты Экстемума № 3 => (-2.1, -0.40)\n",
      "Координаты Экстемума № 4 => (-0.79, 0)\n",
      "Координаты Экстемума № 5 => (-0.27, -0.032)\n",
      "Координаты Экстемума № 6 => (1.1, 0.41)\n",
      "Координаты Экстемума № 7 => (2.4, 1.7e-7)\n",
      "Координаты Экстемума № 8 => (2.9, 0.032)\n",
      "Координаты Экстемума № 9 => (4.2, -0.40)\n"
     ]
    }
   ],
   "source": [
    "extremums = list(zip(res,coordinate_y))\n",
    "extremums\n",
    "for i, coord in enumerate(extremums,start=1):\n",
    "    print(f'Координаты Экстемума № {i} => {coord}')"
   ]
  },
  {
   "cell_type": "markdown",
   "id": "7877c0c6",
   "metadata": {},
   "source": [
    "## 6. Определим промежутки на которых функция больше или меньше нуля\n"
   ]
  },
  {
   "cell_type": "code",
   "execution_count": 127,
   "id": "b60c7312",
   "metadata": {},
   "outputs": [],
   "source": [
    "# root.append(oo)\n",
    "# root.insert(0,-oo)\n",
    "# root"
   ]
  },
  {
   "cell_type": "code",
   "execution_count": 128,
   "id": "3db4a875",
   "metadata": {
    "scrolled": true
   },
   "outputs": [
    {
     "name": "stdout",
     "output_type": "stream",
     "text": [
      "Функция Отрицательная на интервале от -9.4 до -7.1\n",
      "Функция Отрицательная на интервале от -7.1 до -6.3\n",
      "Функция Положительная на интервале от -6.3 до -3.9\n",
      "Функция Положительная на интервале от -3.9 до -3.1\n",
      "Функция Отрицательная на интервале от -3.1 до -0.79\n",
      "Функция Отрицательная на интервале от -0.79 до 0\n",
      "Функция Положительная на интервале от 0 до 2.4\n",
      "Функция Положительная на интервале от 2.4 до 3.1\n",
      "Функция Отрицательная на интервале от 3.1 до 5.5\n",
      "Функция Отрицательная на интервале от 5.5 до 6.3\n",
      "Функция Положительная на интервале от 6.3 до 8.6\n",
      "Функция Положительная на интервале от 8.6 до 9.4\n"
     ]
    }
   ],
   "source": [
    "temp = ''\n",
    "for i in range(len(root)-1):    \n",
    "    if i == 0:\n",
    "        if (y.subs(x, (root[i+1]-1)))>0:\n",
    "            temp = 'Положительная'\n",
    "        else:\n",
    "            temp = 'Отрицательная'\n",
    "            \n",
    "            \n",
    "    elif i == len(root)-2:\n",
    "        if y.subs(x, root[i+1])>0:\n",
    "            temp = 'Положительная'\n",
    "        else:\n",
    "            temp = 'Отрицательная'\n",
    "    else:\n",
    "        if y.subs(x, uniform(root[i],root[i+1]))>0:\n",
    "            temp = 'Положительная'\n",
    "        else:\n",
    "            temp = 'Отрицательная'\n",
    "\n",
    "            \n",
    "    print(f\"Функция {temp} на интервале от {root[i]} до {root[i+1]}\")"
   ]
  },
  {
   "cell_type": "code",
   "execution_count": null,
   "id": "426844fc",
   "metadata": {},
   "outputs": [],
   "source": []
  }
 ],
 "metadata": {
  "kernelspec": {
   "display_name": "Python 3 (ipykernel)",
   "language": "python",
   "name": "python3"
  },
  "language_info": {
   "codemirror_mode": {
    "name": "ipython",
    "version": 3
   },
   "file_extension": ".py",
   "mimetype": "text/x-python",
   "name": "python",
   "nbconvert_exporter": "python",
   "pygments_lexer": "ipython3",
   "version": "3.9.12"
  }
 },
 "nbformat": 4,
 "nbformat_minor": 5
}
